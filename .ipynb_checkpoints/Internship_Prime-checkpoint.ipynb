{
 "cells": [
  {
   "cell_type": "code",
   "execution_count": 23,
   "metadata": {
    "collapsed": true
   },
   "outputs": [],
   "source": [
    "\n",
    "a=[2,3,6,7,10,13,16,1]"
   ]
  },
  {
   "cell_type": "code",
   "execution_count": 24,
   "metadata": {},
   "outputs": [],
   "source": [
    "a.sort()"
   ]
  },
  {
   "cell_type": "code",
   "execution_count": 25,
   "metadata": {
    "collapsed": true
   },
   "outputs": [],
   "source": [
    "list.reverse(a)"
   ]
  },
  {
   "cell_type": "code",
   "execution_count": 26,
   "metadata": {},
   "outputs": [
    {
     "data": {
      "text/plain": [
       "[16, 13, 10, 7, 6, 3, 2, 1]"
      ]
     },
     "execution_count": 26,
     "metadata": {},
     "output_type": "execute_result"
    }
   ],
   "source": [
    "a"
   ]
  },
  {
   "cell_type": "code",
   "execution_count": 27,
   "metadata": {
    "collapsed": true
   },
   "outputs": [],
   "source": [
    "def subset_sum(numbers, target, partial=[]):\n",
    "    s = sum(partial)\n",
    "    \n",
    "    # check if the partial sum is equals to target\n",
    "    if s == target: \n",
    "            if len(partial)==1:\n",
    "                return 0\n",
    "            else:\n",
    "                print(\"Sum exist for these numbers->\",target,partial)\n",
    "                return 1\n",
    "        \n",
    "        \n",
    "    if s >= target:\n",
    "        return  # if we reach the number why bother to continue\n",
    "\n",
    "    for i in range(len(numbers)):\n",
    "        n = numbers[i]\n",
    "        remaining = numbers[i+1:]\n",
    "        \n",
    "        if subset_sum(remaining, target, partial + [n]) ==1:\n",
    "           return 1        \n",
    " \n"
   ]
  },
  {
   "cell_type": "code",
   "execution_count": 28,
   "metadata": {},
   "outputs": [
    {
     "name": "stdout",
     "output_type": "stream",
     "text": [
      "Sum exist for these numbers-> 16 [13, 3]\n",
      "Sum exist for these numbers-> 13 [10, 3]\n",
      "Sum exist for these numbers-> 10 [7, 3]\n",
      "Sum exist for these numbers-> 7 [6, 1]\n",
      "Sum exist for these numbers-> 6 [3, 2, 1]\n",
      "Sum exist for these numbers-> 3 [2, 1]\n"
     ]
    }
   ],
   "source": [
    "\n",
    "for i in range(len(a)):\n",
    "    if subset_sum(a,a[i])==1:\n",
    "        sum_exist[i]=1\n",
    "   "
   ]
  },
  {
   "cell_type": "code",
   "execution_count": null,
   "metadata": {
    "collapsed": true
   },
   "outputs": [],
   "source": []
  }
 ],
 "metadata": {
  "kernelspec": {
   "display_name": "Python 3",
   "language": "python",
   "name": "python3"
  },
  "language_info": {
   "codemirror_mode": {
    "name": "ipython",
    "version": 3
   },
   "file_extension": ".py",
   "mimetype": "text/x-python",
   "name": "python",
   "nbconvert_exporter": "python",
   "pygments_lexer": "ipython3",
   "version": "3.6.3"
  }
 },
 "nbformat": 4,
 "nbformat_minor": 2
}
